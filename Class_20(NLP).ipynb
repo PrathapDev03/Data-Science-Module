{
 "cells": [
  {
   "cell_type": "markdown",
   "id": "e8dc7b46-a424-4ed0-9d07-63b7cd843bcc",
   "metadata": {},
   "source": [
    "!pip install spacy"
   ]
  },
  {
   "cell_type": "markdown",
   "id": "e1005adb-a8e9-447d-8d35-f10463ee4f35",
   "metadata": {},
   "source": [
    "!pip install wordcloud"
   ]
  },
  {
   "cell_type": "code",
   "execution_count": null,
   "id": "623e3fa1-0da1-4adf-af92-3b9ec1a49068",
   "metadata": {},
   "outputs": [],
   "source": [
    "import nltk\n",
    "nltk.download('all')"
   ]
  },
  {
   "cell_type": "markdown",
   "id": "3a3fd8ab-2365-4215-9efe-7395015add3f",
   "metadata": {},
   "source": [
    "!pip install -U spacy"
   ]
  },
  {
   "cell_type": "code",
   "execution_count": 22,
   "id": "7b3d9957-aff7-4cd9-bba5-b6a16943c96e",
   "metadata": {},
   "outputs": [
    {
     "name": "stdout",
     "output_type": "stream",
     "text": [
      "Requirement already satisfied: pydantic==1.10.12 in c:\\users\\91872\\anaconda3\\lib\\site-packages (1.10.12)\n",
      "Requirement already satisfied: typing-extensions>=4.2.0 in c:\\users\\91872\\anaconda3\\lib\\site-packages (from pydantic==1.10.12) (4.11.0)\n"
     ]
    }
   ],
   "source": [
    "!pip install pydantic==1.10.12"
   ]
  },
  {
   "cell_type": "code",
   "execution_count": null,
   "id": "4ed9592d-420c-4d15-87de-0acdddfdfd29",
   "metadata": {
    "scrolled": true
   },
   "outputs": [],
   "source": [
    "!python -m spacy download en_core_web_sm"
   ]
  },
  {
   "cell_type": "code",
   "execution_count": null,
   "id": "5b1b7271-44c1-4b94-a083-f370596fdd55",
   "metadata": {},
   "outputs": [],
   "source": [
    "import spacy\n",
    "nlp = spacy.load(\"en_core_web_sm\")"
   ]
  },
  {
   "cell_type": "code",
   "execution_count": null,
   "id": "e32c803e-8b5d-473d-855b-51578a2f5ffb",
   "metadata": {},
   "outputs": [],
   "source": [
    "import pandas as pd\n",
    "import numpy as np\n",
    "import matplotlib.pyplot as plt\n",
    "import seaborn as sns\n",
    "import wordcloud\n",
    "import spacy\n",
    "from wordcloud import WordCloud,STOPWORDS"
   ]
  },
  {
   "cell_type": "code",
   "execution_count": 25,
   "id": "ba6b47e7-21f7-42ca-b0a9-268d00b13ce2",
   "metadata": {},
   "outputs": [],
   "source": [
    "\n",
    "text = \"\"\"\n",
    "In 1969, Neil Armstrong and Buzz Aldrin became the first humans to land on the moon during NASA's Apollo 11 mission. The spacecraft launched from Kennedy Space Center in Florida and traveled approximately 240,000 miles to the moon. After a historic lunar landing, Armstrong took his first step on the moon’s surface and famously said, \"That's one small step for man, one giant leap for mankind.\" \n",
    "\n",
    "NASA's Apollo program, which ran from 1961 to 1972, made significant contributions to space exploration, leading to several moon landings. Today, NASA is working on the Artemis program, which aims to return humans to the moon by 2025 and eventually pave the way for crewed missions to Mars. Artemis will be the first program to land a woman on the moon, expanding the legacy of space exploration.\n",
    "\n",
    "SpaceX, led by Elon Musk, has also played a pivotal role in advancing space travel, with the development of reusable rockets like the Falcon 9 and ambitious plans to colonize Mars. Meanwhile, Blue Origin, founded by Jeff Bezos, is focused on building the infrastructure for future space exploration, starting with lunar missions and space tourism.\n",
    "\n",
    "In other news, countries such as China and India are rapidly advancing their space programs, with both nations planning their own lunar missions in the coming decade. China’s Chang'e program successfully landed a rover on the far side of the moon, while India’s ISRO is preparing for its next lunar mission, Chandrayaan-3, in 2023.\n",
    "\"\"\""
   ]
  },
  {
   "cell_type": "code",
   "execution_count": null,
   "id": "cb2b15d9-d8b3-4afc-b503-b4e8014a10e9",
   "metadata": {},
   "outputs": [],
   "source": []
  },
  {
   "cell_type": "code",
   "execution_count": null,
   "id": "c2fbe401-4397-4545-bf5f-062f222f2141",
   "metadata": {},
   "outputs": [],
   "source": []
  },
  {
   "cell_type": "code",
   "execution_count": null,
   "id": "afa88184-e53e-42af-b41e-6f9378cc8d69",
   "metadata": {},
   "outputs": [],
   "source": []
  },
  {
   "cell_type": "code",
   "execution_count": null,
   "id": "978238ee-5a42-4e8c-b97c-b6e0d8826268",
   "metadata": {},
   "outputs": [],
   "source": []
  },
  {
   "cell_type": "code",
   "execution_count": null,
   "id": "8123b581-26eb-4066-b81a-0ecc8a6bbef0",
   "metadata": {},
   "outputs": [],
   "source": []
  },
  {
   "cell_type": "code",
   "execution_count": null,
   "id": "d70a7baf-3787-4187-91b7-10f2740afc13",
   "metadata": {},
   "outputs": [],
   "source": []
  },
  {
   "cell_type": "code",
   "execution_count": null,
   "id": "aa59a8ab-31be-435b-8e5f-6226822e5204",
   "metadata": {},
   "outputs": [],
   "source": []
  },
  {
   "cell_type": "code",
   "execution_count": null,
   "id": "842e385d-a6e0-4645-8886-bc5c755fd097",
   "metadata": {},
   "outputs": [],
   "source": []
  },
  {
   "cell_type": "code",
   "execution_count": null,
   "id": "698d1f5a-5f88-44bb-abc2-0c4ff90383b2",
   "metadata": {},
   "outputs": [],
   "source": []
  },
  {
   "cell_type": "code",
   "execution_count": null,
   "id": "7c2fcfb9-6fe2-4308-a95a-9ded82fc8b90",
   "metadata": {},
   "outputs": [],
   "source": []
  },
  {
   "cell_type": "code",
   "execution_count": null,
   "id": "67b4958b-025d-4a62-ad00-df4f27d968cf",
   "metadata": {},
   "outputs": [],
   "source": []
  },
  {
   "cell_type": "code",
   "execution_count": null,
   "id": "2f539b2f-019a-4fd0-a2be-64514e8c29e5",
   "metadata": {},
   "outputs": [],
   "source": []
  },
  {
   "cell_type": "code",
   "execution_count": null,
   "id": "6a7036fd-9b57-42b5-afec-c77b41ef8cb0",
   "metadata": {},
   "outputs": [],
   "source": []
  },
  {
   "cell_type": "code",
   "execution_count": null,
   "id": "a1f1cb30-0a40-45d9-ad85-a794c0866b51",
   "metadata": {},
   "outputs": [],
   "source": []
  },
  {
   "cell_type": "code",
   "execution_count": null,
   "id": "0eea0633-04e7-48a9-b582-fb89d9311be0",
   "metadata": {},
   "outputs": [],
   "source": []
  },
  {
   "cell_type": "code",
   "execution_count": null,
   "id": "5e823303-3490-4add-97d2-075b6882ddc4",
   "metadata": {},
   "outputs": [],
   "source": []
  },
  {
   "cell_type": "code",
   "execution_count": null,
   "id": "b9d2737a-6bba-4660-862e-482844855bc4",
   "metadata": {},
   "outputs": [],
   "source": []
  },
  {
   "cell_type": "code",
   "execution_count": null,
   "id": "de77f43c-8220-4911-b65b-4ede8980ca46",
   "metadata": {},
   "outputs": [],
   "source": []
  },
  {
   "cell_type": "code",
   "execution_count": null,
   "id": "6c2ed7a1-1ead-439c-a8ab-f7ef7529da11",
   "metadata": {},
   "outputs": [],
   "source": []
  }
 ],
 "metadata": {
  "kernelspec": {
   "display_name": "Python 3 (ipykernel)",
   "language": "python",
   "name": "python3"
  },
  "language_info": {
   "codemirror_mode": {
    "name": "ipython",
    "version": 3
   },
   "file_extension": ".py",
   "mimetype": "text/x-python",
   "name": "python",
   "nbconvert_exporter": "python",
   "pygments_lexer": "ipython3",
   "version": "3.12.4"
  }
 },
 "nbformat": 4,
 "nbformat_minor": 5
}
