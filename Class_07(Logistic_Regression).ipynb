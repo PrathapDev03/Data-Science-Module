{
 "cells": [
  {
   "cell_type": "code",
   "execution_count": 1,
   "id": "5dad61ed-67e5-4b09-8f76-65aae856377e",
   "metadata": {},
   "outputs": [],
   "source": [
    "import pandas as pd\n",
    "import numpy as np\n",
    "import matplotlib.pyplot as plt\n",
    "from sklearn.linear_model import LogisticRegression\n",
    "from sklearn.model_selection import train_test_split\n",
    "from sklearn.metrics import accuracy_score"
   ]
  },
  {
   "cell_type": "code",
   "execution_count": 2,
   "id": "0c533da7-c310-48cd-9aa4-e994d6484a9e",
   "metadata": {},
   "outputs": [],
   "source": [
    "df = pd.read_csv('dataset_admissions.csv')"
   ]
  },
  {
   "cell_type": "code",
   "execution_count": 3,
   "id": "f7073514-2775-4a36-a338-b84cb1a6da28",
   "metadata": {},
   "outputs": [
    {
     "data": {
      "text/html": [
       "<div>\n",
       "<style scoped>\n",
       "    .dataframe tbody tr th:only-of-type {\n",
       "        vertical-align: middle;\n",
       "    }\n",
       "\n",
       "    .dataframe tbody tr th {\n",
       "        vertical-align: top;\n",
       "    }\n",
       "\n",
       "    .dataframe thead th {\n",
       "        text-align: right;\n",
       "    }\n",
       "</style>\n",
       "<table border=\"1\" class=\"dataframe\">\n",
       "  <thead>\n",
       "    <tr style=\"text-align: right;\">\n",
       "      <th></th>\n",
       "      <th>ADMIT</th>\n",
       "      <th>GRE</th>\n",
       "      <th>GPA</th>\n",
       "      <th>RANK</th>\n",
       "    </tr>\n",
       "  </thead>\n",
       "  <tbody>\n",
       "    <tr>\n",
       "      <th>0</th>\n",
       "      <td>0</td>\n",
       "      <td>380</td>\n",
       "      <td>3.61</td>\n",
       "      <td>3</td>\n",
       "    </tr>\n",
       "    <tr>\n",
       "      <th>1</th>\n",
       "      <td>1</td>\n",
       "      <td>660</td>\n",
       "      <td>3.67</td>\n",
       "      <td>3</td>\n",
       "    </tr>\n",
       "    <tr>\n",
       "      <th>2</th>\n",
       "      <td>1</td>\n",
       "      <td>800</td>\n",
       "      <td>4.00</td>\n",
       "      <td>1</td>\n",
       "    </tr>\n",
       "    <tr>\n",
       "      <th>3</th>\n",
       "      <td>1</td>\n",
       "      <td>640</td>\n",
       "      <td>3.19</td>\n",
       "      <td>4</td>\n",
       "    </tr>\n",
       "    <tr>\n",
       "      <th>4</th>\n",
       "      <td>0</td>\n",
       "      <td>520</td>\n",
       "      <td>2.93</td>\n",
       "      <td>4</td>\n",
       "    </tr>\n",
       "  </tbody>\n",
       "</table>\n",
       "</div>"
      ],
      "text/plain": [
       "   ADMIT  GRE   GPA  RANK\n",
       "0      0  380  3.61     3\n",
       "1      1  660  3.67     3\n",
       "2      1  800  4.00     1\n",
       "3      1  640  3.19     4\n",
       "4      0  520  2.93     4"
      ]
     },
     "execution_count": 3,
     "metadata": {},
     "output_type": "execute_result"
    }
   ],
   "source": [
    "df.head()"
   ]
  },
  {
   "cell_type": "markdown",
   "id": "4e9ed701-34e1-495e-ba74-94a8492eab84",
   "metadata": {},
   "source": [
    "To build a model to classify the admission data"
   ]
  },
  {
   "cell_type": "code",
   "execution_count": 4,
   "id": "d6170c9f-25f8-4b93-a15f-bd7c84ccb4bc",
   "metadata": {},
   "outputs": [
    {
     "data": {
      "text/plain": [
       "ADMIT    0\n",
       "GRE      0\n",
       "GPA      0\n",
       "RANK     0\n",
       "dtype: int64"
      ]
     },
     "execution_count": 4,
     "metadata": {},
     "output_type": "execute_result"
    }
   ],
   "source": [
    "df.isnull().sum()"
   ]
  },
  {
   "cell_type": "code",
   "execution_count": 5,
   "id": "c18ba6d7-3e9d-4e98-88d2-742614e9c477",
   "metadata": {},
   "outputs": [],
   "source": [
    "features = df.drop(columns='ADMIT')\n",
    "target = df[['ADMIT']]"
   ]
  },
  {
   "cell_type": "code",
   "execution_count": 6,
   "id": "84e28a3e-f6fd-4859-8652-74e154974b86",
   "metadata": {},
   "outputs": [],
   "source": [
    "x_train,x_test,y_train,y_test = train_test_split(features,target,train_size=0.75,random_state=100)"
   ]
  },
  {
   "cell_type": "code",
   "execution_count": 7,
   "id": "3839c731-2f6a-423d-aa18-da0a21102c52",
   "metadata": {},
   "outputs": [
    {
     "name": "stdout",
     "output_type": "stream",
     "text": [
      "(300, 3)\n",
      "(100, 3)\n",
      "(300, 1)\n",
      "(100, 1)\n"
     ]
    }
   ],
   "source": [
    "print(x_train.shape)\n",
    "print(x_test.shape)\n",
    "print(y_train.shape)\n",
    "print(y_test.shape)"
   ]
  },
  {
   "cell_type": "code",
   "execution_count": 8,
   "id": "bc537e9e-769c-41f8-8086-da6b6c327c7b",
   "metadata": {},
   "outputs": [],
   "source": [
    "# If it a multi class we use this function\n",
    "#log_model = LogisticRegression(multi_class='ovr') "
   ]
  },
  {
   "cell_type": "code",
   "execution_count": 9,
   "id": "d661ecf8-5970-4900-ad49-2d3be1546277",
   "metadata": {},
   "outputs": [],
   "source": [
    "log_model = LogisticRegression() "
   ]
  },
  {
   "cell_type": "code",
   "execution_count": 10,
   "id": "5bdff8f3-236b-4664-a0a3-38984a8e2f36",
   "metadata": {},
   "outputs": [
    {
     "name": "stderr",
     "output_type": "stream",
     "text": [
      "C:\\Users\\91872\\anaconda3\\Lib\\site-packages\\sklearn\\utils\\validation.py:1408: DataConversionWarning: A column-vector y was passed when a 1d array was expected. Please change the shape of y to (n_samples, ), for example using ravel().\n",
      "  y = column_or_1d(y, warn=True)\n"
     ]
    },
    {
     "data": {
      "text/html": [
       "<style>#sk-container-id-1 {\n",
       "  /* Definition of color scheme common for light and dark mode */\n",
       "  --sklearn-color-text: #000;\n",
       "  --sklearn-color-text-muted: #666;\n",
       "  --sklearn-color-line: gray;\n",
       "  /* Definition of color scheme for unfitted estimators */\n",
       "  --sklearn-color-unfitted-level-0: #fff5e6;\n",
       "  --sklearn-color-unfitted-level-1: #f6e4d2;\n",
       "  --sklearn-color-unfitted-level-2: #ffe0b3;\n",
       "  --sklearn-color-unfitted-level-3: chocolate;\n",
       "  /* Definition of color scheme for fitted estimators */\n",
       "  --sklearn-color-fitted-level-0: #f0f8ff;\n",
       "  --sklearn-color-fitted-level-1: #d4ebff;\n",
       "  --sklearn-color-fitted-level-2: #b3dbfd;\n",
       "  --sklearn-color-fitted-level-3: cornflowerblue;\n",
       "\n",
       "  /* Specific color for light theme */\n",
       "  --sklearn-color-text-on-default-background: var(--sg-text-color, var(--theme-code-foreground, var(--jp-content-font-color1, black)));\n",
       "  --sklearn-color-background: var(--sg-background-color, var(--theme-background, var(--jp-layout-color0, white)));\n",
       "  --sklearn-color-border-box: var(--sg-text-color, var(--theme-code-foreground, var(--jp-content-font-color1, black)));\n",
       "  --sklearn-color-icon: #696969;\n",
       "\n",
       "  @media (prefers-color-scheme: dark) {\n",
       "    /* Redefinition of color scheme for dark theme */\n",
       "    --sklearn-color-text-on-default-background: var(--sg-text-color, var(--theme-code-foreground, var(--jp-content-font-color1, white)));\n",
       "    --sklearn-color-background: var(--sg-background-color, var(--theme-background, var(--jp-layout-color0, #111)));\n",
       "    --sklearn-color-border-box: var(--sg-text-color, var(--theme-code-foreground, var(--jp-content-font-color1, white)));\n",
       "    --sklearn-color-icon: #878787;\n",
       "  }\n",
       "}\n",
       "\n",
       "#sk-container-id-1 {\n",
       "  color: var(--sklearn-color-text);\n",
       "}\n",
       "\n",
       "#sk-container-id-1 pre {\n",
       "  padding: 0;\n",
       "}\n",
       "\n",
       "#sk-container-id-1 input.sk-hidden--visually {\n",
       "  border: 0;\n",
       "  clip: rect(1px 1px 1px 1px);\n",
       "  clip: rect(1px, 1px, 1px, 1px);\n",
       "  height: 1px;\n",
       "  margin: -1px;\n",
       "  overflow: hidden;\n",
       "  padding: 0;\n",
       "  position: absolute;\n",
       "  width: 1px;\n",
       "}\n",
       "\n",
       "#sk-container-id-1 div.sk-dashed-wrapped {\n",
       "  border: 1px dashed var(--sklearn-color-line);\n",
       "  margin: 0 0.4em 0.5em 0.4em;\n",
       "  box-sizing: border-box;\n",
       "  padding-bottom: 0.4em;\n",
       "  background-color: var(--sklearn-color-background);\n",
       "}\n",
       "\n",
       "#sk-container-id-1 div.sk-container {\n",
       "  /* jupyter's `normalize.less` sets `[hidden] { display: none; }`\n",
       "     but bootstrap.min.css set `[hidden] { display: none !important; }`\n",
       "     so we also need the `!important` here to be able to override the\n",
       "     default hidden behavior on the sphinx rendered scikit-learn.org.\n",
       "     See: https://github.com/scikit-learn/scikit-learn/issues/21755 */\n",
       "  display: inline-block !important;\n",
       "  position: relative;\n",
       "}\n",
       "\n",
       "#sk-container-id-1 div.sk-text-repr-fallback {\n",
       "  display: none;\n",
       "}\n",
       "\n",
       "div.sk-parallel-item,\n",
       "div.sk-serial,\n",
       "div.sk-item {\n",
       "  /* draw centered vertical line to link estimators */\n",
       "  background-image: linear-gradient(var(--sklearn-color-text-on-default-background), var(--sklearn-color-text-on-default-background));\n",
       "  background-size: 2px 100%;\n",
       "  background-repeat: no-repeat;\n",
       "  background-position: center center;\n",
       "}\n",
       "\n",
       "/* Parallel-specific style estimator block */\n",
       "\n",
       "#sk-container-id-1 div.sk-parallel-item::after {\n",
       "  content: \"\";\n",
       "  width: 100%;\n",
       "  border-bottom: 2px solid var(--sklearn-color-text-on-default-background);\n",
       "  flex-grow: 1;\n",
       "}\n",
       "\n",
       "#sk-container-id-1 div.sk-parallel {\n",
       "  display: flex;\n",
       "  align-items: stretch;\n",
       "  justify-content: center;\n",
       "  background-color: var(--sklearn-color-background);\n",
       "  position: relative;\n",
       "}\n",
       "\n",
       "#sk-container-id-1 div.sk-parallel-item {\n",
       "  display: flex;\n",
       "  flex-direction: column;\n",
       "}\n",
       "\n",
       "#sk-container-id-1 div.sk-parallel-item:first-child::after {\n",
       "  align-self: flex-end;\n",
       "  width: 50%;\n",
       "}\n",
       "\n",
       "#sk-container-id-1 div.sk-parallel-item:last-child::after {\n",
       "  align-self: flex-start;\n",
       "  width: 50%;\n",
       "}\n",
       "\n",
       "#sk-container-id-1 div.sk-parallel-item:only-child::after {\n",
       "  width: 0;\n",
       "}\n",
       "\n",
       "/* Serial-specific style estimator block */\n",
       "\n",
       "#sk-container-id-1 div.sk-serial {\n",
       "  display: flex;\n",
       "  flex-direction: column;\n",
       "  align-items: center;\n",
       "  background-color: var(--sklearn-color-background);\n",
       "  padding-right: 1em;\n",
       "  padding-left: 1em;\n",
       "}\n",
       "\n",
       "\n",
       "/* Toggleable style: style used for estimator/Pipeline/ColumnTransformer box that is\n",
       "clickable and can be expanded/collapsed.\n",
       "- Pipeline and ColumnTransformer use this feature and define the default style\n",
       "- Estimators will overwrite some part of the style using the `sk-estimator` class\n",
       "*/\n",
       "\n",
       "/* Pipeline and ColumnTransformer style (default) */\n",
       "\n",
       "#sk-container-id-1 div.sk-toggleable {\n",
       "  /* Default theme specific background. It is overwritten whether we have a\n",
       "  specific estimator or a Pipeline/ColumnTransformer */\n",
       "  background-color: var(--sklearn-color-background);\n",
       "}\n",
       "\n",
       "/* Toggleable label */\n",
       "#sk-container-id-1 label.sk-toggleable__label {\n",
       "  cursor: pointer;\n",
       "  display: flex;\n",
       "  width: 100%;\n",
       "  margin-bottom: 0;\n",
       "  padding: 0.5em;\n",
       "  box-sizing: border-box;\n",
       "  text-align: center;\n",
       "  align-items: start;\n",
       "  justify-content: space-between;\n",
       "  gap: 0.5em;\n",
       "}\n",
       "\n",
       "#sk-container-id-1 label.sk-toggleable__label .caption {\n",
       "  font-size: 0.6rem;\n",
       "  font-weight: lighter;\n",
       "  color: var(--sklearn-color-text-muted);\n",
       "}\n",
       "\n",
       "#sk-container-id-1 label.sk-toggleable__label-arrow:before {\n",
       "  /* Arrow on the left of the label */\n",
       "  content: \"▸\";\n",
       "  float: left;\n",
       "  margin-right: 0.25em;\n",
       "  color: var(--sklearn-color-icon);\n",
       "}\n",
       "\n",
       "#sk-container-id-1 label.sk-toggleable__label-arrow:hover:before {\n",
       "  color: var(--sklearn-color-text);\n",
       "}\n",
       "\n",
       "/* Toggleable content - dropdown */\n",
       "\n",
       "#sk-container-id-1 div.sk-toggleable__content {\n",
       "  max-height: 0;\n",
       "  max-width: 0;\n",
       "  overflow: hidden;\n",
       "  text-align: left;\n",
       "  /* unfitted */\n",
       "  background-color: var(--sklearn-color-unfitted-level-0);\n",
       "}\n",
       "\n",
       "#sk-container-id-1 div.sk-toggleable__content.fitted {\n",
       "  /* fitted */\n",
       "  background-color: var(--sklearn-color-fitted-level-0);\n",
       "}\n",
       "\n",
       "#sk-container-id-1 div.sk-toggleable__content pre {\n",
       "  margin: 0.2em;\n",
       "  border-radius: 0.25em;\n",
       "  color: var(--sklearn-color-text);\n",
       "  /* unfitted */\n",
       "  background-color: var(--sklearn-color-unfitted-level-0);\n",
       "}\n",
       "\n",
       "#sk-container-id-1 div.sk-toggleable__content.fitted pre {\n",
       "  /* unfitted */\n",
       "  background-color: var(--sklearn-color-fitted-level-0);\n",
       "}\n",
       "\n",
       "#sk-container-id-1 input.sk-toggleable__control:checked~div.sk-toggleable__content {\n",
       "  /* Expand drop-down */\n",
       "  max-height: 200px;\n",
       "  max-width: 100%;\n",
       "  overflow: auto;\n",
       "}\n",
       "\n",
       "#sk-container-id-1 input.sk-toggleable__control:checked~label.sk-toggleable__label-arrow:before {\n",
       "  content: \"▾\";\n",
       "}\n",
       "\n",
       "/* Pipeline/ColumnTransformer-specific style */\n",
       "\n",
       "#sk-container-id-1 div.sk-label input.sk-toggleable__control:checked~label.sk-toggleable__label {\n",
       "  color: var(--sklearn-color-text);\n",
       "  background-color: var(--sklearn-color-unfitted-level-2);\n",
       "}\n",
       "\n",
       "#sk-container-id-1 div.sk-label.fitted input.sk-toggleable__control:checked~label.sk-toggleable__label {\n",
       "  background-color: var(--sklearn-color-fitted-level-2);\n",
       "}\n",
       "\n",
       "/* Estimator-specific style */\n",
       "\n",
       "/* Colorize estimator box */\n",
       "#sk-container-id-1 div.sk-estimator input.sk-toggleable__control:checked~label.sk-toggleable__label {\n",
       "  /* unfitted */\n",
       "  background-color: var(--sklearn-color-unfitted-level-2);\n",
       "}\n",
       "\n",
       "#sk-container-id-1 div.sk-estimator.fitted input.sk-toggleable__control:checked~label.sk-toggleable__label {\n",
       "  /* fitted */\n",
       "  background-color: var(--sklearn-color-fitted-level-2);\n",
       "}\n",
       "\n",
       "#sk-container-id-1 div.sk-label label.sk-toggleable__label,\n",
       "#sk-container-id-1 div.sk-label label {\n",
       "  /* The background is the default theme color */\n",
       "  color: var(--sklearn-color-text-on-default-background);\n",
       "}\n",
       "\n",
       "/* On hover, darken the color of the background */\n",
       "#sk-container-id-1 div.sk-label:hover label.sk-toggleable__label {\n",
       "  color: var(--sklearn-color-text);\n",
       "  background-color: var(--sklearn-color-unfitted-level-2);\n",
       "}\n",
       "\n",
       "/* Label box, darken color on hover, fitted */\n",
       "#sk-container-id-1 div.sk-label.fitted:hover label.sk-toggleable__label.fitted {\n",
       "  color: var(--sklearn-color-text);\n",
       "  background-color: var(--sklearn-color-fitted-level-2);\n",
       "}\n",
       "\n",
       "/* Estimator label */\n",
       "\n",
       "#sk-container-id-1 div.sk-label label {\n",
       "  font-family: monospace;\n",
       "  font-weight: bold;\n",
       "  display: inline-block;\n",
       "  line-height: 1.2em;\n",
       "}\n",
       "\n",
       "#sk-container-id-1 div.sk-label-container {\n",
       "  text-align: center;\n",
       "}\n",
       "\n",
       "/* Estimator-specific */\n",
       "#sk-container-id-1 div.sk-estimator {\n",
       "  font-family: monospace;\n",
       "  border: 1px dotted var(--sklearn-color-border-box);\n",
       "  border-radius: 0.25em;\n",
       "  box-sizing: border-box;\n",
       "  margin-bottom: 0.5em;\n",
       "  /* unfitted */\n",
       "  background-color: var(--sklearn-color-unfitted-level-0);\n",
       "}\n",
       "\n",
       "#sk-container-id-1 div.sk-estimator.fitted {\n",
       "  /* fitted */\n",
       "  background-color: var(--sklearn-color-fitted-level-0);\n",
       "}\n",
       "\n",
       "/* on hover */\n",
       "#sk-container-id-1 div.sk-estimator:hover {\n",
       "  /* unfitted */\n",
       "  background-color: var(--sklearn-color-unfitted-level-2);\n",
       "}\n",
       "\n",
       "#sk-container-id-1 div.sk-estimator.fitted:hover {\n",
       "  /* fitted */\n",
       "  background-color: var(--sklearn-color-fitted-level-2);\n",
       "}\n",
       "\n",
       "/* Specification for estimator info (e.g. \"i\" and \"?\") */\n",
       "\n",
       "/* Common style for \"i\" and \"?\" */\n",
       "\n",
       ".sk-estimator-doc-link,\n",
       "a:link.sk-estimator-doc-link,\n",
       "a:visited.sk-estimator-doc-link {\n",
       "  float: right;\n",
       "  font-size: smaller;\n",
       "  line-height: 1em;\n",
       "  font-family: monospace;\n",
       "  background-color: var(--sklearn-color-background);\n",
       "  border-radius: 1em;\n",
       "  height: 1em;\n",
       "  width: 1em;\n",
       "  text-decoration: none !important;\n",
       "  margin-left: 0.5em;\n",
       "  text-align: center;\n",
       "  /* unfitted */\n",
       "  border: var(--sklearn-color-unfitted-level-1) 1pt solid;\n",
       "  color: var(--sklearn-color-unfitted-level-1);\n",
       "}\n",
       "\n",
       ".sk-estimator-doc-link.fitted,\n",
       "a:link.sk-estimator-doc-link.fitted,\n",
       "a:visited.sk-estimator-doc-link.fitted {\n",
       "  /* fitted */\n",
       "  border: var(--sklearn-color-fitted-level-1) 1pt solid;\n",
       "  color: var(--sklearn-color-fitted-level-1);\n",
       "}\n",
       "\n",
       "/* On hover */\n",
       "div.sk-estimator:hover .sk-estimator-doc-link:hover,\n",
       ".sk-estimator-doc-link:hover,\n",
       "div.sk-label-container:hover .sk-estimator-doc-link:hover,\n",
       ".sk-estimator-doc-link:hover {\n",
       "  /* unfitted */\n",
       "  background-color: var(--sklearn-color-unfitted-level-3);\n",
       "  color: var(--sklearn-color-background);\n",
       "  text-decoration: none;\n",
       "}\n",
       "\n",
       "div.sk-estimator.fitted:hover .sk-estimator-doc-link.fitted:hover,\n",
       ".sk-estimator-doc-link.fitted:hover,\n",
       "div.sk-label-container:hover .sk-estimator-doc-link.fitted:hover,\n",
       ".sk-estimator-doc-link.fitted:hover {\n",
       "  /* fitted */\n",
       "  background-color: var(--sklearn-color-fitted-level-3);\n",
       "  color: var(--sklearn-color-background);\n",
       "  text-decoration: none;\n",
       "}\n",
       "\n",
       "/* Span, style for the box shown on hovering the info icon */\n",
       ".sk-estimator-doc-link span {\n",
       "  display: none;\n",
       "  z-index: 9999;\n",
       "  position: relative;\n",
       "  font-weight: normal;\n",
       "  right: .2ex;\n",
       "  padding: .5ex;\n",
       "  margin: .5ex;\n",
       "  width: min-content;\n",
       "  min-width: 20ex;\n",
       "  max-width: 50ex;\n",
       "  color: var(--sklearn-color-text);\n",
       "  box-shadow: 2pt 2pt 4pt #999;\n",
       "  /* unfitted */\n",
       "  background: var(--sklearn-color-unfitted-level-0);\n",
       "  border: .5pt solid var(--sklearn-color-unfitted-level-3);\n",
       "}\n",
       "\n",
       ".sk-estimator-doc-link.fitted span {\n",
       "  /* fitted */\n",
       "  background: var(--sklearn-color-fitted-level-0);\n",
       "  border: var(--sklearn-color-fitted-level-3);\n",
       "}\n",
       "\n",
       ".sk-estimator-doc-link:hover span {\n",
       "  display: block;\n",
       "}\n",
       "\n",
       "/* \"?\"-specific style due to the `<a>` HTML tag */\n",
       "\n",
       "#sk-container-id-1 a.estimator_doc_link {\n",
       "  float: right;\n",
       "  font-size: 1rem;\n",
       "  line-height: 1em;\n",
       "  font-family: monospace;\n",
       "  background-color: var(--sklearn-color-background);\n",
       "  border-radius: 1rem;\n",
       "  height: 1rem;\n",
       "  width: 1rem;\n",
       "  text-decoration: none;\n",
       "  /* unfitted */\n",
       "  color: var(--sklearn-color-unfitted-level-1);\n",
       "  border: var(--sklearn-color-unfitted-level-1) 1pt solid;\n",
       "}\n",
       "\n",
       "#sk-container-id-1 a.estimator_doc_link.fitted {\n",
       "  /* fitted */\n",
       "  border: var(--sklearn-color-fitted-level-1) 1pt solid;\n",
       "  color: var(--sklearn-color-fitted-level-1);\n",
       "}\n",
       "\n",
       "/* On hover */\n",
       "#sk-container-id-1 a.estimator_doc_link:hover {\n",
       "  /* unfitted */\n",
       "  background-color: var(--sklearn-color-unfitted-level-3);\n",
       "  color: var(--sklearn-color-background);\n",
       "  text-decoration: none;\n",
       "}\n",
       "\n",
       "#sk-container-id-1 a.estimator_doc_link.fitted:hover {\n",
       "  /* fitted */\n",
       "  background-color: var(--sklearn-color-fitted-level-3);\n",
       "}\n",
       "</style><div id=\"sk-container-id-1\" class=\"sk-top-container\"><div class=\"sk-text-repr-fallback\"><pre>LogisticRegression()</pre><b>In a Jupyter environment, please rerun this cell to show the HTML representation or trust the notebook. <br />On GitHub, the HTML representation is unable to render, please try loading this page with nbviewer.org.</b></div><div class=\"sk-container\" hidden><div class=\"sk-item\"><div class=\"sk-estimator fitted sk-toggleable\"><input class=\"sk-toggleable__control sk-hidden--visually\" id=\"sk-estimator-id-1\" type=\"checkbox\" checked><label for=\"sk-estimator-id-1\" class=\"sk-toggleable__label fitted sk-toggleable__label-arrow\"><div><div>LogisticRegression</div></div><div><a class=\"sk-estimator-doc-link fitted\" rel=\"noreferrer\" target=\"_blank\" href=\"https://scikit-learn.org/1.6/modules/generated/sklearn.linear_model.LogisticRegression.html\">?<span>Documentation for LogisticRegression</span></a><span class=\"sk-estimator-doc-link fitted\">i<span>Fitted</span></span></div></label><div class=\"sk-toggleable__content fitted\"><pre>LogisticRegression()</pre></div> </div></div></div></div>"
      ],
      "text/plain": [
       "LogisticRegression()"
      ]
     },
     "execution_count": 10,
     "metadata": {},
     "output_type": "execute_result"
    }
   ],
   "source": [
    "log_model.fit(x_train,y_train)"
   ]
  },
  {
   "cell_type": "code",
   "execution_count": 11,
   "id": "3ed12b78-dfbf-48cf-8420-ba402ce1b23d",
   "metadata": {},
   "outputs": [
    {
     "data": {
      "text/plain": [
       "array([0, 0, 1, 0, 0, 0, 0, 0, 0, 0, 0, 0, 0, 0, 0, 0, 0, 0, 0, 0, 0, 0,\n",
       "       0, 0, 0, 0, 0, 0, 0, 0, 0, 0, 1, 0, 0, 0, 0, 0, 0, 1, 0, 0, 0, 1,\n",
       "       0, 0, 0, 0, 0, 1, 0, 0, 0, 0, 0, 0, 0, 0, 0, 0, 0, 0, 0, 0, 0, 0,\n",
       "       0, 0, 0, 0, 0, 0, 0, 1, 0, 0, 0, 0, 0, 1, 0, 0, 0, 1, 0, 0, 0, 0,\n",
       "       0, 0, 1, 0, 0, 1, 0, 0, 0, 0, 1, 0], dtype=int64)"
      ]
     },
     "execution_count": 11,
     "metadata": {},
     "output_type": "execute_result"
    }
   ],
   "source": [
    "y_pred = log_model.predict(x_test)\n",
    "y_pred"
   ]
  },
  {
   "cell_type": "code",
   "execution_count": 12,
   "id": "0621c2a9-25e4-4be6-a30d-9ad7c6a17bc5",
   "metadata": {},
   "outputs": [
    {
     "data": {
      "text/plain": [
       "0.63"
      ]
     },
     "execution_count": 12,
     "metadata": {},
     "output_type": "execute_result"
    }
   ],
   "source": [
    "accuracy_score(y_test,y_pred)"
   ]
  },
  {
   "cell_type": "code",
   "execution_count": 60,
   "id": "b21252b3-6173-448d-8886-5983088abb6a",
   "metadata": {},
   "outputs": [
    {
     "data": {
      "text/plain": [
       "array([[0.68252194, 0.31747806],\n",
       "       [0.87744779, 0.12255221],\n",
       "       [0.48256059, 0.51743941],\n",
       "       [0.86679745, 0.13320255],\n",
       "       [0.93027558, 0.06972442],\n",
       "       [0.69139853, 0.30860147],\n",
       "       [0.61164891, 0.38835109],\n",
       "       [0.82789895, 0.17210105],\n",
       "       [0.78305596, 0.21694404],\n",
       "       [0.73953191, 0.26046809],\n",
       "       [0.88266987, 0.11733013],\n",
       "       [0.58036675, 0.41963325],\n",
       "       [0.84853289, 0.15146711],\n",
       "       [0.73136098, 0.26863902],\n",
       "       [0.62976917, 0.37023083],\n",
       "       [0.86314428, 0.13685572],\n",
       "       [0.58562528, 0.41437472],\n",
       "       [0.88252093, 0.11747907],\n",
       "       [0.82980416, 0.17019584],\n",
       "       [0.83263703, 0.16736297],\n",
       "       [0.8763285 , 0.1236715 ],\n",
       "       [0.70645686, 0.29354314],\n",
       "       [0.6034833 , 0.3965167 ],\n",
       "       [0.52062455, 0.47937545],\n",
       "       [0.53629979, 0.46370021],\n",
       "       [0.77364867, 0.22635133],\n",
       "       [0.74850837, 0.25149163],\n",
       "       [0.71602515, 0.28397485],\n",
       "       [0.81709857, 0.18290143],\n",
       "       [0.84547159, 0.15452841],\n",
       "       [0.66164928, 0.33835072],\n",
       "       [0.78144215, 0.21855785],\n",
       "       [0.42331582, 0.57668418],\n",
       "       [0.69551825, 0.30448175],\n",
       "       [0.53071434, 0.46928566],\n",
       "       [0.81120766, 0.18879234],\n",
       "       [0.8187636 , 0.1812364 ],\n",
       "       [0.67499583, 0.32500417],\n",
       "       [0.92079592, 0.07920408],\n",
       "       [0.29540839, 0.70459161],\n",
       "       [0.87969734, 0.12030266],\n",
       "       [0.74185104, 0.25814896],\n",
       "       [0.59012382, 0.40987618],\n",
       "       [0.39797506, 0.60202494],\n",
       "       [0.68815946, 0.31184054],\n",
       "       [0.5382032 , 0.4617968 ],\n",
       "       [0.82991889, 0.17008111],\n",
       "       [0.74627953, 0.25372047],\n",
       "       [0.67667315, 0.32332685],\n",
       "       [0.36536051, 0.63463949],\n",
       "       [0.5253004 , 0.4746996 ],\n",
       "       [0.78547953, 0.21452047],\n",
       "       [0.57301919, 0.42698081],\n",
       "       [0.69184103, 0.30815897],\n",
       "       [0.67714742, 0.32285258],\n",
       "       [0.77334971, 0.22665029],\n",
       "       [0.59319501, 0.40680499],\n",
       "       [0.56000348, 0.43999652],\n",
       "       [0.79160986, 0.20839014],\n",
       "       [0.57028141, 0.42971859],\n",
       "       [0.63746726, 0.36253274],\n",
       "       [0.57852087, 0.42147913],\n",
       "       [0.66959435, 0.33040565],\n",
       "       [0.88466214, 0.11533786],\n",
       "       [0.58562528, 0.41437472],\n",
       "       [0.78872709, 0.21127291],\n",
       "       [0.64431374, 0.35568626],\n",
       "       [0.61771193, 0.38228807],\n",
       "       [0.76757832, 0.23242168],\n",
       "       [0.81086284, 0.18913716],\n",
       "       [0.74372808, 0.25627192],\n",
       "       [0.8802683 , 0.1197317 ],\n",
       "       [0.69530903, 0.30469097],\n",
       "       [0.40610019, 0.59389981],\n",
       "       [0.59471442, 0.40528558],\n",
       "       [0.75450124, 0.24549876],\n",
       "       [0.92068418, 0.07931582],\n",
       "       [0.73808831, 0.26191169],\n",
       "       [0.73663957, 0.26336043],\n",
       "       [0.29075863, 0.70924137],\n",
       "       [0.69490646, 0.30509354],\n",
       "       [0.6528389 , 0.3471611 ],\n",
       "       [0.67533165, 0.32466835],\n",
       "       [0.37843411, 0.62156589],\n",
       "       [0.82513356, 0.17486644],\n",
       "       [0.64567608, 0.35432392],\n",
       "       [0.85526349, 0.14473651],\n",
       "       [0.60954777, 0.39045223],\n",
       "       [0.93026421, 0.06973579],\n",
       "       [0.85989798, 0.14010202],\n",
       "       [0.49240362, 0.50759638],\n",
       "       [0.78558691, 0.21441309],\n",
       "       [0.64742568, 0.35257432],\n",
       "       [0.429335  , 0.570665  ],\n",
       "       [0.81887022, 0.18112978],\n",
       "       [0.52363729, 0.47636271],\n",
       "       [0.55261756, 0.44738244],\n",
       "       [0.85591986, 0.14408014],\n",
       "       [0.489992  , 0.510008  ],\n",
       "       [0.61276178, 0.38723822]])"
      ]
     },
     "execution_count": 60,
     "metadata": {},
     "output_type": "execute_result"
    }
   ],
   "source": [
    "pred_prob = log_model.predict_proba(x_test)             # 1-Sigma    , Sigma\n",
    "pred_prob"
   ]
  },
  {
   "cell_type": "code",
   "execution_count": 14,
   "id": "308aa93b-8fb2-4ce7-977a-39938fb35444",
   "metadata": {},
   "outputs": [],
   "source": [
    "# Changing the thershold value\n",
    "\n",
    "y_pred1 = [1 if x[1]>=0.4 else 0 for x in log_model.predict_proba(x_test)]"
   ]
  },
  {
   "cell_type": "code",
   "execution_count": 15,
   "id": "172be2b4-02b9-4c40-a58d-8e4f1a1ed800",
   "metadata": {},
   "outputs": [
    {
     "data": {
      "text/plain": [
       "0.64"
      ]
     },
     "execution_count": 15,
     "metadata": {},
     "output_type": "execute_result"
    }
   ],
   "source": [
    "accuracy_score(y_test,y_pred1)"
   ]
  },
  {
   "cell_type": "code",
   "execution_count": 16,
   "id": "059e3a34-93f9-4ff6-9c56-e52d1f40e0fb",
   "metadata": {},
   "outputs": [
    {
     "data": {
      "text/plain": [
       "ADMIT\n",
       "0        273\n",
       "1        127\n",
       "Name: count, dtype: int64"
      ]
     },
     "execution_count": 16,
     "metadata": {},
     "output_type": "execute_result"
    }
   ],
   "source": [
    "target.value_counts()"
   ]
  },
  {
   "cell_type": "code",
   "execution_count": 17,
   "id": "4c2caee6-8826-489e-a36c-5dd9348c61a7",
   "metadata": {},
   "outputs": [
    {
     "name": "stdout",
     "output_type": "stream",
     "text": [
      "Requirement already satisfied: imblearn in c:\\users\\91872\\anaconda3\\lib\\site-packages (0.0)\n",
      "Requirement already satisfied: imbalanced-learn in c:\\users\\91872\\anaconda3\\lib\\site-packages (from imblearn) (0.12.3)\n",
      "Requirement already satisfied: numpy>=1.17.3 in c:\\users\\91872\\anaconda3\\lib\\site-packages (from imbalanced-learn->imblearn) (1.26.4)\n",
      "Requirement already satisfied: scipy>=1.5.0 in c:\\users\\91872\\anaconda3\\lib\\site-packages (from imbalanced-learn->imblearn) (1.13.1)\n",
      "Requirement already satisfied: scikit-learn>=1.0.2 in c:\\users\\91872\\anaconda3\\lib\\site-packages (from imbalanced-learn->imblearn) (1.6.0)\n",
      "Requirement already satisfied: joblib>=1.1.1 in c:\\users\\91872\\anaconda3\\lib\\site-packages (from imbalanced-learn->imblearn) (1.4.2)\n",
      "Requirement already satisfied: threadpoolctl>=2.0.0 in c:\\users\\91872\\anaconda3\\lib\\site-packages (from imbalanced-learn->imblearn) (3.5.0)\n"
     ]
    }
   ],
   "source": [
    "!pip install imblearn"
   ]
  },
  {
   "cell_type": "code",
   "execution_count": 18,
   "id": "d23f2a78-eb30-4e6f-b98c-d65ed54b3c8a",
   "metadata": {},
   "outputs": [],
   "source": [
    "from imblearn.over_sampling import SMOTE,RandomOverSampler\n",
    "from imblearn.under_sampling import RandomUnderSampler"
   ]
  },
  {
   "cell_type": "code",
   "execution_count": 19,
   "id": "dc98ed3a-29be-4500-8e28-8ec2f1b4cea3",
   "metadata": {},
   "outputs": [],
   "source": [
    "## SMOTE"
   ]
  },
  {
   "cell_type": "code",
   "execution_count": 20,
   "id": "51b6b7f3-f963-43fa-9dd2-7484c33d7c0a",
   "metadata": {},
   "outputs": [
    {
     "data": {
      "text/plain": [
       "ADMIT\n",
       "0        209\n",
       "1         91\n",
       "Name: count, dtype: int64"
      ]
     },
     "execution_count": 20,
     "metadata": {},
     "output_type": "execute_result"
    }
   ],
   "source": [
    "y_train.value_counts()"
   ]
  },
  {
   "cell_type": "code",
   "execution_count": 21,
   "id": "848bf8a8-cfba-4358-98d8-35a6eaec3c70",
   "metadata": {},
   "outputs": [
    {
     "data": {
      "text/plain": [
       "(300, 3)"
      ]
     },
     "execution_count": 21,
     "metadata": {},
     "output_type": "execute_result"
    }
   ],
   "source": [
    "x_train.shape"
   ]
  },
  {
   "cell_type": "code",
   "execution_count": 22,
   "id": "29496632-dbc9-4070-b75c-87cbc6088a48",
   "metadata": {},
   "outputs": [],
   "source": [
    "smote = SMOTE()"
   ]
  },
  {
   "cell_type": "code",
   "execution_count": 23,
   "id": "d30149e7-3556-459e-a01d-e07b2f53cdfc",
   "metadata": {},
   "outputs": [
    {
     "name": "stderr",
     "output_type": "stream",
     "text": [
      "C:\\Users\\91872\\anaconda3\\Lib\\site-packages\\sklearn\\base.py:474: FutureWarning: `BaseEstimator._validate_data` is deprecated in 1.6 and will be removed in 1.7. Use `sklearn.utils.validation.validate_data` instead. This function becomes public and is part of the scikit-learn developer API.\n",
      "  warnings.warn(\n",
      "C:\\Users\\91872\\anaconda3\\Lib\\site-packages\\sklearn\\utils\\_tags.py:354: FutureWarning: The SMOTE or classes from which it inherits use `_get_tags` and `_more_tags`. Please define the `__sklearn_tags__` method, or inherit from `sklearn.base.BaseEstimator` and/or other appropriate mixins such as `sklearn.base.TransformerMixin`, `sklearn.base.ClassifierMixin`, `sklearn.base.RegressorMixin`, and `sklearn.base.OutlierMixin`. From scikit-learn 1.7, not defining `__sklearn_tags__` will raise an error.\n",
      "  warnings.warn(\n"
     ]
    }
   ],
   "source": [
    "x_train,y_train = smote.fit_resample(x_train,y_train)"
   ]
  },
  {
   "cell_type": "code",
   "execution_count": 24,
   "id": "1dccc9b9-1d04-4b2b-8cbe-4fec23e1d912",
   "metadata": {},
   "outputs": [
    {
     "data": {
      "text/plain": [
       "(418, 3)"
      ]
     },
     "execution_count": 24,
     "metadata": {},
     "output_type": "execute_result"
    }
   ],
   "source": [
    "x_train.shape"
   ]
  },
  {
   "cell_type": "code",
   "execution_count": 25,
   "id": "3228cdfa-a702-45ba-bb7d-7cc154187a85",
   "metadata": {},
   "outputs": [
    {
     "data": {
      "text/plain": [
       "ADMIT\n",
       "0        209\n",
       "1        209\n",
       "Name: count, dtype: int64"
      ]
     },
     "execution_count": 25,
     "metadata": {},
     "output_type": "execute_result"
    }
   ],
   "source": [
    "y_train.value_counts()"
   ]
  },
  {
   "cell_type": "code",
   "execution_count": 26,
   "id": "6b655714-964b-4304-8ba9-40196c3c7014",
   "metadata": {},
   "outputs": [
    {
     "name": "stdout",
     "output_type": "stream",
     "text": [
      "(418, 3)\n",
      "(100, 3)\n",
      "(418, 1)\n",
      "(100, 1)\n"
     ]
    }
   ],
   "source": [
    "print(x_train.shape)\n",
    "print(x_test.shape)\n",
    "print(y_train.shape)\n",
    "print(y_test.shape)"
   ]
  },
  {
   "cell_type": "code",
   "execution_count": 27,
   "id": "f8add5d8-3b1f-4339-a890-ff3fcfbd31e5",
   "metadata": {},
   "outputs": [],
   "source": [
    "# Random _under_sampling"
   ]
  },
  {
   "cell_type": "code",
   "execution_count": 32,
   "id": "f2b9294a-a59f-407f-8c19-ed894237408e",
   "metadata": {},
   "outputs": [],
   "source": [
    "rand_under = RandomUnderSampler()"
   ]
  },
  {
   "cell_type": "code",
   "execution_count": 33,
   "id": "ea73f653-5cfd-40bf-8edf-f45b61009477",
   "metadata": {},
   "outputs": [
    {
     "name": "stderr",
     "output_type": "stream",
     "text": [
      "C:\\Users\\91872\\anaconda3\\Lib\\site-packages\\sklearn\\base.py:484: FutureWarning: `BaseEstimator._check_n_features` is deprecated in 1.6 and will be removed in 1.7. Use `sklearn.utils.validation._check_n_features` instead.\n",
      "  warnings.warn(\n",
      "C:\\Users\\91872\\anaconda3\\Lib\\site-packages\\sklearn\\base.py:493: FutureWarning: `BaseEstimator._check_feature_names` is deprecated in 1.6 and will be removed in 1.7. Use `sklearn.utils.validation._check_feature_names` instead.\n",
      "  warnings.warn(\n"
     ]
    }
   ],
   "source": [
    "x_train_under,y_train_undeer = rand_under.fit_resample(x_train,y_train)"
   ]
  },
  {
   "cell_type": "code",
   "execution_count": 34,
   "id": "cea3b2c1-b7e6-46a2-9b0b-76bcf0dd1517",
   "metadata": {},
   "outputs": [
    {
     "data": {
      "text/plain": [
       "(418, 3)"
      ]
     },
     "execution_count": 34,
     "metadata": {},
     "output_type": "execute_result"
    }
   ],
   "source": [
    "x_train_under.shape"
   ]
  },
  {
   "cell_type": "code",
   "execution_count": 35,
   "id": "da87c98a-0254-4857-9c35-5c25b1d23908",
   "metadata": {},
   "outputs": [
    {
     "data": {
      "text/plain": [
       "ADMIT\n",
       "0        209\n",
       "1        209\n",
       "Name: count, dtype: int64"
      ]
     },
     "execution_count": 35,
     "metadata": {},
     "output_type": "execute_result"
    }
   ],
   "source": [
    "y_train_undeer.value_counts()"
   ]
  },
  {
   "cell_type": "code",
   "execution_count": null,
   "id": "485a5047-df77-48a5-ae6c-cba43eb27a4f",
   "metadata": {},
   "outputs": [],
   "source": [
    "# Random _over_sampling"
   ]
  },
  {
   "cell_type": "code",
   "execution_count": null,
   "id": "ec44b8d5-402b-4cec-9425-77f57cd8718d",
   "metadata": {},
   "outputs": [],
   "source": []
  },
  {
   "cell_type": "code",
   "execution_count": null,
   "id": "1605a27c-86be-4a9c-8435-ca9110aa2128",
   "metadata": {},
   "outputs": [],
   "source": []
  },
  {
   "cell_type": "code",
   "execution_count": null,
   "id": "b1aeb8a3-3ece-4ef6-8003-034c6fb0b414",
   "metadata": {},
   "outputs": [],
   "source": []
  },
  {
   "cell_type": "code",
   "execution_count": null,
   "id": "29b5e229-f6a9-416b-8841-90277db4cce3",
   "metadata": {},
   "outputs": [],
   "source": []
  },
  {
   "cell_type": "markdown",
   "id": "833095d6-8038-4267-a809-2d9b6aaaa8a6",
   "metadata": {},
   "source": [
    " ## Performance_metrics"
   ]
  },
  {
   "cell_type": "code",
   "execution_count": 36,
   "id": "8f3e04fd-73e2-47df-935b-c1e5530c429e",
   "metadata": {},
   "outputs": [],
   "source": [
    "from sklearn.metrics import confusion_matrix,classification_report\n",
    "import seaborn as sns"
   ]
  },
  {
   "cell_type": "code",
   "execution_count": 57,
   "id": "3fc46902-18c5-482f-8a7a-3dfa9631cbec",
   "metadata": {},
   "outputs": [
    {
     "data": {
      "text/plain": [
       "array([[58,  6],\n",
       "       [31,  5]], dtype=int64)"
      ]
     },
     "execution_count": 57,
     "metadata": {},
     "output_type": "execute_result"
    }
   ],
   "source": [
    "conf = confusion_matrix(y_test,y_pred)\n",
    "conf"
   ]
  },
  {
   "cell_type": "code",
   "execution_count": 58,
   "id": "f5be18a9-68f1-48cd-bca1-e5e6ebf7ea8b",
   "metadata": {},
   "outputs": [
    {
     "data": {
      "text/plain": [
       "Text(0.5, 1.0, 'Confusion_Matrix')"
      ]
     },
     "execution_count": 58,
     "metadata": {},
     "output_type": "execute_result"
    },
    {
     "data": {
      "image/png": "[encoded data removed]",
      "text/plain": [
       "<Figure size 600x500 with 2 Axes>"
      ]
     },
     "metadata": {},
     "output_type": "display_data"
    }
   ],
   "source": [
    "plt.figure(figsize=(6, 5))\n",
    "sns.heatmap(conf,annot=True,cmap='YlGnBu')\n",
    "plt.xlabel('Predicted')\n",
    "plt.ylabel('Actual')\n",
    "plt.title('Confusion_Matrix')"
   ]
  },
  {
   "cell_type": "markdown",
   "id": "dd7f091d-60c5-43b8-83da-207b9244fd88",
   "metadata": {},
   "source": [
    "- coolwarm: Diverging color map (from blue to red).\n",
    "\n",
    "- viridis: A perceptually uniform color map (green to purple).\n",
    "\n",
    "- magma: A dark purple to bright yellow color map.\n",
    "\n",
    "- plasma: Bright purple to bright yellow.\n",
    "\n",
    "- Blues, Greens, Reds: Sequential single-color maps.\n",
    "\n",
    "- YlGnBu: Yellow-green-blue sequential map.\n",
    "\n",
    "Other Popular Color Maps\n",
    "-----------------------------\n",
    "Here are some additional color map options you can use to experiment with different styles:\n",
    "\n",
    "Sequential:\n",
    "-------------\n",
    "\n",
    "- cmap='Blues'\n",
    "- cmap='Greens'\n",
    "- cmap='Oranges'\n",
    "- cmap='Purples'\n",
    " \n",
    "Diverging:\n",
    "-----------\n",
    "\n",
    "- cmap='Spectral'\n",
    "- cmap='PiYG'\n",
    "- cmap='RdYlBu'\n",
    "  \n",
    "Miscellaneous:\n",
    "--------------\n",
    "\n",
    "- cmap='magma'\n",
    "- cmap='plasma'\n",
    "- cmap='inferno'"
   ]
  },
  {
   "cell_type": "code",
   "execution_count": 59,
   "id": "b378d242-54bb-40c5-be19-cd3fa633c43a",
   "metadata": {},
   "outputs": [
    {
     "name": "stdout",
     "output_type": "stream",
     "text": [
      "              precision    recall  f1-score   support\n",
      "\n",
      "           0       0.65      0.91      0.76        64\n",
      "           1       0.45      0.14      0.21        36\n",
      "\n",
      "    accuracy                           0.63       100\n",
      "   macro avg       0.55      0.52      0.49       100\n",
      "weighted avg       0.58      0.63      0.56       100\n",
      "\n"
     ]
    }
   ],
   "source": [
    "print(classification_report(y_test,y_pred))"
   ]
  },
  {
   "cell_type": "markdown",
   "id": "101cfbf9-560b-423b-afa0-b7c5242dd0a1",
   "metadata": {},
   "source": [
    "## ROC_Curve"
   ]
  },
  {
   "cell_type": "code",
   "execution_count": 61,
   "id": "45c3537b-d99d-419d-8bd2-b0ee072da1f3",
   "metadata": {},
   "outputs": [],
   "source": [
    "from sklearn.metrics import roc_auc_score,roc_curve"
   ]
  },
  {
   "cell_type": "code",
   "execution_count": 65,
   "id": "2d762437-1cfe-4172-bf9e-f30286c76004",
   "metadata": {},
   "outputs": [
    {
     "data": {
      "text/plain": [
       "array([0.31747806, 0.12255221, 0.51743941, 0.13320255, 0.06972442,\n",
       "       0.30860147, 0.38835109, 0.17210105, 0.21694404, 0.26046809,\n",
       "       0.11733013, 0.41963325, 0.15146711, 0.26863902, 0.37023083,\n",
       "       0.13685572, 0.41437472, 0.11747907, 0.17019584, 0.16736297,\n",
       "       0.1236715 , 0.29354314, 0.3965167 , 0.47937545, 0.46370021,\n",
       "       0.22635133, 0.25149163, 0.28397485, 0.18290143, 0.15452841,\n",
       "       0.33835072, 0.21855785, 0.57668418, 0.30448175, 0.46928566,\n",
       "       0.18879234, 0.1812364 , 0.32500417, 0.07920408, 0.70459161,\n",
       "       0.12030266, 0.25814896, 0.40987618, 0.60202494, 0.31184054,\n",
       "       0.4617968 , 0.17008111, 0.25372047, 0.32332685, 0.63463949,\n",
       "       0.4746996 , 0.21452047, 0.42698081, 0.30815897, 0.32285258,\n",
       "       0.22665029, 0.40680499, 0.43999652, 0.20839014, 0.42971859,\n",
       "       0.36253274, 0.42147913, 0.33040565, 0.11533786, 0.41437472,\n",
       "       0.21127291, 0.35568626, 0.38228807, 0.23242168, 0.18913716,\n",
       "       0.25627192, 0.1197317 , 0.30469097, 0.59389981, 0.40528558,\n",
       "       0.24549876, 0.07931582, 0.26191169, 0.26336043, 0.70924137,\n",
       "       0.30509354, 0.3471611 , 0.32466835, 0.62156589, 0.17486644,\n",
       "       0.35432392, 0.14473651, 0.39045223, 0.06973579, 0.14010202,\n",
       "       0.50759638, 0.21441309, 0.35257432, 0.570665  , 0.18112978,\n",
       "       0.47636271, 0.44738244, 0.14408014, 0.510008  , 0.38723822])"
      ]
     },
     "execution_count": 65,
     "metadata": {},
     "output_type": "execute_result"
    }
   ],
   "source": [
    "pred_prob1 = log_model.predict_proba(x_test)             # 1-Sigma    , Sigma\n",
    "sigmoid = pred_prob1[:,1]\n",
    "sigmoid"
   ]
  },
  {
   "cell_type": "code",
   "execution_count": 67,
   "id": "2dfc3dbf-c441-483d-9b79-7de97807a4e0",
   "metadata": {},
   "outputs": [
    {
     "data": {
      "text/plain": [
       "0.6139322916666666"
      ]
     },
     "execution_count": 67,
     "metadata": {},
     "output_type": "execute_result"
    }
   ],
   "source": [
    "auc_score = roc_auc_score(y_test,sigmoid)\n",
    "auc_score"
   ]
  },
  {
   "cell_type": "code",
   "execution_count": 91,
   "id": "990327f4-25b1-4124-a4d9-94bdf187675f",
   "metadata": {},
   "outputs": [
    {
     "name": "stdout",
     "output_type": "stream",
     "text": [
      "Values of fpr : \n",
      " [0.       0.015625 0.015625 0.03125  0.03125  0.078125 0.078125 0.09375\n",
      " 0.09375  0.125    0.125    0.140625 0.140625 0.15625  0.15625  0.171875\n",
      " 0.1875   0.21875  0.21875  0.265625 0.265625 0.28125  0.28125  0.328125\n",
      " 0.328125 0.359375 0.359375 0.375    0.375    0.421875 0.421875 0.4375\n",
      " 0.4375   0.453125 0.453125 0.46875  0.46875  0.5625   0.5625   0.578125\n",
      " 0.578125 0.59375  0.59375  0.671875 0.671875 0.734375 0.734375 0.859375\n",
      " 0.859375 0.890625 0.890625 0.921875 0.921875 0.984375 0.984375 1.      ]\n",
      "\n",
      "\n",
      "Values of tpr : \n",
      " [0.         0.         0.02777778 0.02777778 0.05555556 0.05555556\n",
      " 0.11111111 0.11111111 0.13888889 0.13888889 0.16666667 0.16666667\n",
      " 0.22222222 0.22222222 0.33333333 0.33333333 0.36111111 0.36111111\n",
      " 0.38888889 0.38888889 0.41666667 0.41666667 0.44444444 0.44444444\n",
      " 0.5        0.5        0.52777778 0.52777778 0.58333333 0.58333333\n",
      " 0.63888889 0.63888889 0.66666667 0.66666667 0.69444444 0.69444444\n",
      " 0.72222222 0.72222222 0.75       0.75       0.77777778 0.77777778\n",
      " 0.80555556 0.80555556 0.83333333 0.83333333 0.86111111 0.86111111\n",
      " 0.91666667 0.91666667 0.94444444 0.94444444 0.97222222 0.97222222\n",
      " 1.         1.        ]\n",
      "\n",
      "\n",
      "Values of thr : \n",
      " [       inf 0.70924137 0.70459161 0.63463949 0.62156589 0.57668418\n",
      " 0.51743941 0.510008   0.50759638 0.47636271 0.4746996  0.46928566\n",
      " 0.4617968  0.44738244 0.42147913 0.41963325 0.41437472 0.40680499\n",
      " 0.40528558 0.38835109 0.38723822 0.38228807 0.37023083 0.35432392\n",
      " 0.3471611  0.33040565 0.32500417 0.32466835 0.32285258 0.30860147\n",
      " 0.30509354 0.30469097 0.30448175 0.29354314 0.28397485 0.26863902\n",
      " 0.26336043 0.25149163 0.24549876 0.23242168 0.22665029 0.22635133\n",
      " 0.21855785 0.20839014 0.18913716 0.18112978 0.17486644 0.14408014\n",
      " 0.13685572 0.1236715  0.12255221 0.1197317  0.11747907 0.07920408\n",
      " 0.06973579 0.06972442]\n"
     ]
    }
   ],
   "source": [
    "fpr,tpr,thr = roc_curve(y_test,sigmoid)\n",
    "print('Values of fpr :','\\n',fpr)\n",
    "print('\\n')\n",
    "print('Values of tpr :','\\n',tpr)\n",
    "print('\\n')\n",
    "print('Values of thr :','\\n',thr)"
   ]
  },
  {
   "cell_type": "code",
   "execution_count": 86,
   "id": "d25f333f-729a-4b30-8ed8-67d29362933c",
   "metadata": {},
   "outputs": [
    {
     "data": {
      "text/plain": [
       "<matplotlib.legend.Legend at 0x17f56eabf50>"
      ]
     },
     "execution_count": 86,
     "metadata": {},
     "output_type": "execute_result"
    },
    {
     "data": {
      "image/png": "[encoded data removed]",
      "text/plain": [
       "<Figure size 640x480 with 1 Axes>"
      ]
     },
     "metadata": {},
     "output_type": "display_data"
    }
   ],
   "source": [
    "plt.plot(fpr,tpr,color='blue',linewidth=2,label=f'AUC_Score:{auc_score:.2f}')\n",
    "plt.plot([0,1],linestyle='--',color='grey')\n",
    "plt.grid()\n",
    "plt.xlabel('FPR',color='red',size=15)\n",
    "plt.ylabel('TPR',color='red',size=15)\n",
    "plt.title('ROC_Curve',color='Green',size=15)\n",
    "plt.legend()"
   ]
  },
  {
   "cell_type": "code",
   "execution_count": null,
   "id": "0d4bfdc9-1219-4759-bd87-972f3b400c9d",
   "metadata": {},
   "outputs": [],
   "source": []
  },
  {
   "cell_type": "code",
   "execution_count": null,
   "id": "72243728-1a11-4e9f-a791-4ff14d73b737",
   "metadata": {},
   "outputs": [],
   "source": []
  },
  {
   "cell_type": "code",
   "execution_count": null,
   "id": "cdf3c3a4-c014-4ed5-ade0-1011b7af883f",
   "metadata": {},
   "outputs": [],
   "source": []
  },
  {
   "cell_type": "code",
   "execution_count": null,
   "id": "1f1389fe-5b27-46a2-b004-f17bdb35996b",
   "metadata": {},
   "outputs": [],
   "source": []
  },
  {
   "cell_type": "code",
   "execution_count": null,
   "id": "51709419-d7b8-478f-8844-5d14cbb6d2de",
   "metadata": {},
   "outputs": [],
   "source": []
  },
  {
   "cell_type": "code",
   "execution_count": null,
   "id": "031d20a5-24fe-423c-b0b4-f883c0d01d1d",
   "metadata": {},
   "outputs": [],
   "source": []
  }
 ],
 "metadata": {
  "kernelspec": {
   "display_name": "Python 3 (ipykernel)",
   "language": "python",
   "name": "python3"
  },
  "language_info": {
   "codemirror_mode": {
    "name": "ipython",
    "version": 3
   },
   "file_extension": ".py",
   "mimetype": "text/x-python",
   "name": "python",
   "nbconvert_exporter": "python",
   "pygments_lexer": "ipython3",
   "version": "3.12.4"
  }
 },
 "nbformat": 4,
 "nbformat_minor": 5
}
