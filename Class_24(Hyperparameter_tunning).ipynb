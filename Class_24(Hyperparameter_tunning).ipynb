{
 "cells": [
  {
   "cell_type": "code",
   "execution_count": 1,
   "id": "802f713f-561b-446b-8508-01d2203da212",
   "metadata": {},
   "outputs": [],
   "source": [
    "# !pip install keras"
   ]
  },
  {
   "cell_type": "code",
   "execution_count": 2,
   "id": "b386f1e7-d08d-4c13-91c9-0e7baeb77d5c",
   "metadata": {},
   "outputs": [],
   "source": [
    "# !pip install tensorflow"
   ]
  },
  {
   "cell_type": "code",
   "execution_count": 3,
   "id": "652a8e77-6cb6-46d8-a9a8-bef50a2e6a19",
   "metadata": {},
   "outputs": [
    {
     "name": "stdout",
     "output_type": "stream",
     "text": [
      "Requirement already satisfied: keras-tuner in c:\\users\\91872\\anaconda3\\lib\\site-packages (1.4.7)\n",
      "Requirement already satisfied: keras in c:\\users\\91872\\anaconda3\\lib\\site-packages (from keras-tuner) (3.8.0)\n",
      "Requirement already satisfied: packaging in c:\\users\\91872\\anaconda3\\lib\\site-packages (from keras-tuner) (23.2)\n",
      "Requirement already satisfied: requests in c:\\users\\91872\\anaconda3\\lib\\site-packages (from keras-tuner) (2.32.2)\n",
      "Requirement already satisfied: kt-legacy in c:\\users\\91872\\anaconda3\\lib\\site-packages (from keras-tuner) (1.0.5)\n",
      "Requirement already satisfied: absl-py in c:\\users\\91872\\anaconda3\\lib\\site-packages (from keras->keras-tuner) (2.1.0)\n",
      "Requirement already satisfied: numpy in c:\\users\\91872\\anaconda3\\lib\\site-packages (from keras->keras-tuner) (1.26.4)\n",
      "Requirement already satisfied: rich in c:\\users\\91872\\anaconda3\\lib\\site-packages (from keras->keras-tuner) (13.3.5)\n",
      "Requirement already satisfied: namex in c:\\users\\91872\\anaconda3\\lib\\site-packages (from keras->keras-tuner) (0.0.8)\n",
      "Requirement already satisfied: h5py in c:\\users\\91872\\anaconda3\\lib\\site-packages (from keras->keras-tuner) (3.11.0)\n",
      "Requirement already satisfied: optree in c:\\users\\91872\\anaconda3\\lib\\site-packages (from keras->keras-tuner) (0.14.0)\n",
      "Requirement already satisfied: ml-dtypes in c:\\users\\91872\\anaconda3\\lib\\site-packages (from keras->keras-tuner) (0.4.1)\n",
      "Requirement already satisfied: charset-normalizer<4,>=2 in c:\\users\\91872\\anaconda3\\lib\\site-packages (from requests->keras-tuner) (2.0.4)\n",
      "Requirement already satisfied: idna<4,>=2.5 in c:\\users\\91872\\anaconda3\\lib\\site-packages (from requests->keras-tuner) (3.7)\n",
      "Requirement already satisfied: urllib3<3,>=1.21.1 in c:\\users\\91872\\anaconda3\\lib\\site-packages (from requests->keras-tuner) (2.2.2)\n",
      "Requirement already satisfied: certifi>=2017.4.17 in c:\\users\\91872\\anaconda3\\lib\\site-packages (from requests->keras-tuner) (2024.6.2)\n",
      "Requirement already satisfied: typing-extensions>=4.5.0 in c:\\users\\91872\\anaconda3\\lib\\site-packages (from optree->keras->keras-tuner) (4.11.0)\n",
      "Requirement already satisfied: markdown-it-py<3.0.0,>=2.2.0 in c:\\users\\91872\\anaconda3\\lib\\site-packages (from rich->keras->keras-tuner) (2.2.0)\n",
      "Requirement already satisfied: pygments<3.0.0,>=2.13.0 in c:\\users\\91872\\anaconda3\\lib\\site-packages (from rich->keras->keras-tuner) (2.15.1)\n",
      "Requirement already satisfied: mdurl~=0.1 in c:\\users\\91872\\anaconda3\\lib\\site-packages (from markdown-it-py<3.0.0,>=2.2.0->rich->keras->keras-tuner) (0.1.0)\n"
     ]
    }
   ],
   "source": [
    "!pip install keras-tuner"
   ]
  },
  {
   "cell_type": "code",
   "execution_count": 4,
   "id": "93629a3e-e9af-4d98-970b-96a78c0ae250",
   "metadata": {},
   "outputs": [],
   "source": [
    "import keras\n",
    "import tensorflow as tf\n",
    "import pandas as pd\n",
    "import numpy as np\n",
    "import matplotlib.pyplot as plt\n",
    "from keras.datasets import mnist\n",
    "from keras.layers import Dense,Dropout,Flatten\n",
    "from keras.models import Sequential\n",
    "from keras.optimizers import  Adam,RMSprop"
   ]
  },
  {
   "cell_type": "code",
   "execution_count": 5,
   "id": "63801b26-89d8-43d7-a270-6e803ce2f516",
   "metadata": {},
   "outputs": [],
   "source": [
    "(x_train,y_train),(x_test,y_test) = mnist.load_data()"
   ]
  },
  {
   "cell_type": "code",
   "execution_count": 6,
   "id": "26fc94fe-afee-42c6-a695-a48a4579d3ee",
   "metadata": {},
   "outputs": [
    {
     "name": "stdout",
     "output_type": "stream",
     "text": [
      "(60000, 28, 28)\n",
      "(10000, 28, 28)\n",
      "(60000,)\n",
      "(10000,)\n"
     ]
    }
   ],
   "source": [
    "print(x_train.shape)\n",
    "print(x_test.shape)\n",
    "print(y_train.shape)\n",
    "print(y_test.shape)"
   ]
  },
  {
   "cell_type": "code",
   "execution_count": 7,
   "id": "cae8097e-37b0-408b-ac70-77f8fa2686cf",
   "metadata": {},
   "outputs": [],
   "source": [
    "def build_model1(hp):\n",
    "    model=Sequential()\n",
    "    model.add(Flatten(input_shape=(28,28)))\n",
    "    # Providing the range for hidden layers\n",
    "    for i in range(hp.Int('Num_of_layers',2,10)):\n",
    "        # Providing range for number of neurons in hidden layers\n",
    "        model.add(Dense(units=hp.Int('Num_of_neurons' + str(i),min_value=32,max_value=512),\n",
    "                       activation=hp.Choice('Activation',['relu','tanh'])))\n",
    "    model.add(Dense(10,activation='softmax'))    # Output layer\n",
    "    # Compiling the model\n",
    "    model.compile(optimizer=keras.optimizers.Adam(hp.Choice('Learning_rate',values=[1e-2,1e-3,1e-4])),\n",
    "                 loss='sparse_categorical_crossentropy',metrics=['accuracy'])\n",
    "    return model"
   ]
  },
  {
   "cell_type": "code",
   "execution_count": 8,
   "id": "9d0c6aa9-b344-4dd1-a1d4-6c98df07549b",
   "metadata": {},
   "outputs": [],
   "source": [
    "from keras_tuner import RandomSearch"
   ]
  },
  {
   "cell_type": "code",
   "execution_count": 9,
   "id": "b4d5e8bc-a934-449d-b0fa-dd28070f24f1",
   "metadata": {},
   "outputs": [
    {
     "name": "stderr",
     "output_type": "stream",
     "text": [
      "C:\\Users\\91872\\anaconda3\\Lib\\site-packages\\keras\\src\\layers\\reshaping\\flatten.py:37: UserWarning: Do not pass an `input_shape`/`input_dim` argument to a layer. When using Sequential models, prefer using an `Input(shape)` object as the first layer in the model instead.\n",
      "  super().__init__(**kwargs)\n"
     ]
    }
   ],
   "source": [
    "tuner3 = RandomSearch(build_model1,\n",
    "        objective = 'val_accuracy',\n",
    "        max_trials = 3,\n",
    "        executions_per_trial = 2,\n",
    "        project_name = 'Project')"
   ]
  },
  {
   "cell_type": "code",
   "execution_count": 10,
   "id": "9d4aaa5a-4e75-4c7b-a20a-33b8dee94650",
   "metadata": {},
   "outputs": [
    {
     "name": "stdout",
     "output_type": "stream",
     "text": [
      "Trial 3 Complete [00h 00m 54s]\n",
      "val_accuracy: 0.9560000002384186\n",
      "\n",
      "Best val_accuracy So Far: 0.9560000002384186\n",
      "Total elapsed time: 00h 04m 06s\n"
     ]
    }
   ],
   "source": [
    "tuner3.search(x_train,y_train,epochs=5,validation_data=(x_test,y_test))"
   ]
  },
  {
   "cell_type": "code",
   "execution_count": 11,
   "id": "7b056a1a-19a4-452a-abca-f57530046d24",
   "metadata": {},
   "outputs": [
    {
     "name": "stdout",
     "output_type": "stream",
     "text": [
      "Results summary\n",
      "Results in .\\Project\n",
      "Showing 10 best trials\n",
      "Objective(name=\"val_accuracy\", direction=\"max\")\n",
      "\n",
      "Trial 2 summary\n",
      "Hyperparameters:\n",
      "Num_of_layers: 2\n",
      "Num_of_neurons0: 458\n",
      "Activation: tanh\n",
      "Num_of_neurons1: 359\n",
      "Learning_rate: 0.0001\n",
      "Num_of_neurons2: 302\n",
      "Num_of_neurons3: 491\n",
      "Num_of_neurons4: 404\n",
      "Num_of_neurons5: 279\n",
      "Num_of_neurons6: 364\n",
      "Score: 0.9560000002384186\n",
      "\n",
      "Trial 0 summary\n",
      "Hyperparameters:\n",
      "Num_of_layers: 7\n",
      "Num_of_neurons0: 235\n",
      "Activation: tanh\n",
      "Num_of_neurons1: 298\n",
      "Learning_rate: 0.001\n",
      "Num_of_neurons2: 32\n",
      "Num_of_neurons3: 32\n",
      "Num_of_neurons4: 32\n",
      "Num_of_neurons5: 32\n",
      "Num_of_neurons6: 32\n",
      "Score: 0.8983500003814697\n",
      "\n",
      "Trial 1 summary\n",
      "Hyperparameters:\n",
      "Num_of_layers: 6\n",
      "Num_of_neurons0: 307\n",
      "Activation: tanh\n",
      "Num_of_neurons1: 255\n",
      "Learning_rate: 0.001\n",
      "Num_of_neurons2: 303\n",
      "Num_of_neurons3: 50\n",
      "Num_of_neurons4: 472\n",
      "Num_of_neurons5: 413\n",
      "Num_of_neurons6: 291\n",
      "Score: 0.8956000208854675\n"
     ]
    }
   ],
   "source": [
    "tuner3.results_summary()"
   ]
  },
  {
   "cell_type": "code",
   "execution_count": null,
   "id": "560faa32-faef-4675-9287-25f986ba546f",
   "metadata": {},
   "outputs": [],
   "source": []
  },
  {
   "cell_type": "code",
   "execution_count": null,
   "id": "084a03d5-2838-4b5c-91b3-c72df6e589c1",
   "metadata": {},
   "outputs": [],
   "source": []
  },
  {
   "cell_type": "code",
   "execution_count": null,
   "id": "d687caee-2b1a-4e9a-b16f-c51df8c6d33b",
   "metadata": {},
   "outputs": [],
   "source": []
  },
  {
   "cell_type": "code",
   "execution_count": null,
   "id": "bb10cf07-f846-4841-aad3-fa604cc5627e",
   "metadata": {},
   "outputs": [],
   "source": []
  },
  {
   "cell_type": "code",
   "execution_count": null,
   "id": "7f755203-e61e-45bc-834c-e974881fc491",
   "metadata": {},
   "outputs": [],
   "source": []
  },
  {
   "cell_type": "code",
   "execution_count": null,
   "id": "674412cd-7e7b-4508-9564-e67a53faafe2",
   "metadata": {},
   "outputs": [],
   "source": []
  },
  {
   "cell_type": "code",
   "execution_count": null,
   "id": "08ad6c03-8306-4179-a3f6-76efcdc5d908",
   "metadata": {},
   "outputs": [],
   "source": []
  },
  {
   "cell_type": "code",
   "execution_count": null,
   "id": "e468636e-180a-423f-8be6-fb12f4399fe9",
   "metadata": {},
   "outputs": [],
   "source": []
  },
  {
   "cell_type": "code",
   "execution_count": null,
   "id": "1c2f8f92-5875-4b9a-a0da-1d11463e88b4",
   "metadata": {},
   "outputs": [],
   "source": []
  }
 ],
 "metadata": {
  "kernelspec": {
   "display_name": "Python 3 (ipykernel)",
   "language": "python",
   "name": "python3"
  },
  "language_info": {
   "codemirror_mode": {
    "name": "ipython",
    "version": 3
   },
   "file_extension": ".py",
   "mimetype": "text/x-python",
   "name": "python",
   "nbconvert_exporter": "python",
   "pygments_lexer": "ipython3",
   "version": "3.12.4"
  }
 },
 "nbformat": 4,
 "nbformat_minor": 5
}
